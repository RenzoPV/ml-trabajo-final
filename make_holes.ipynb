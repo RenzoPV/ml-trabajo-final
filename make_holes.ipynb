{
 "cells": [
  {
   "attachments": {},
   "cell_type": "markdown",
   "metadata": {},
   "source": [
    "Generación de orificios"
   ]
  },
  {
   "cell_type": "code",
   "execution_count": 2,
   "metadata": {},
   "outputs": [],
   "source": [
    "import random\n",
    "\n",
    "def agujeros_cubicos(voxel,largo,ancho,alto):\n",
    "    cant_huecos=random.randint(10, 15)\n",
    "    for _ in range(cant_huecos):\n",
    "        tamaño = random.randint(5,10)\n",
    "        pos_largo = random.randint(0,largo-tamaño-1)\n",
    "        pos_ancho = random.randint(0,ancho-tamaño-1)\n",
    "        pos_alto = random.randint(0,alto-tamaño-1)\n",
    "        voxel[pos_largo:pos_largo+tamaño,pos_ancho:pos_ancho+tamaño,pos_alto:pos_alto+tamaño]=0\n",
    "    return voxel"
   ]
  }
 ],
 "metadata": {
  "kernelspec": {
   "display_name": "Python 3",
   "language": "python",
   "name": "python3"
  },
  "language_info": {
   "codemirror_mode": {
    "name": "ipython",
    "version": 3
   },
   "file_extension": ".py",
   "mimetype": "text/x-python",
   "name": "python",
   "nbconvert_exporter": "python",
   "pygments_lexer": "ipython3",
   "version": "3.10.11"
  },
  "orig_nbformat": 4
 },
 "nbformat": 4,
 "nbformat_minor": 2
}
