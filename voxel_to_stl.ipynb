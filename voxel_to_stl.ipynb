{
  "cells": [
    {
      "attachments": {},
      "cell_type": "markdown",
      "metadata": {},
      "source": [
        "En caso de error de !pip install -U quad_mesh_simplify:"
      ]
    },
    {
      "attachments": {},
      "cell_type": "markdown",
      "metadata": {},
      "source": [
        "Remplazar \"from quad_mesh_simplify import simplify_mesh\" -> \"from simplify import simplify_mesh\""
      ]
    },
    {
      "attachments": {},
      "cell_type": "markdown",
      "metadata": {},
      "source": [
        "En el directorio: /usr/local/lib/python3.10/dist-packages/voxelfuse/mesh.py"
      ]
    },
    {
      "cell_type": "code",
      "execution_count": 8,
      "metadata": {},
      "outputs": [
        {
          "name": "stderr",
          "output_type": "stream",
          "text": [
            "Finding exterior voxels:   0%|          | 0/16 [00:00<?, ?it/s]"
          ]
        },
        {
          "name": "stderr",
          "output_type": "stream",
          "text": [
            "Finding exterior voxels: 100%|██████████| 16/16 [00:00<00:00, 401.08it/s]\n",
            "Meshing: 100%|██████████| 2356/2356 [00:09<00:00, 239.42it/s]\n"
          ]
        }
      ],
      "source": [
        "from voxelfuse.voxel_model import VoxelModel\n",
        "from voxelfuse.mesh import Mesh\n",
        "from voxelfuse.primitives import generateMaterials\n",
        "import numpy as np\n",
        "\n",
        "data = np.load('car_0001.npy', allow_pickle=True)\n",
        "model = VoxelModel(data, generateMaterials(4))  #4 is aluminium.\n",
        "mesh = Mesh.fromVoxelModel(model)\n",
        "mesh.export('mesh.stl')"
      ]
    }
  ],
  "metadata": {
    "colab": {
      "authorship_tag": "ABX9TyOAKX6a25HNTnyBAQu7hSPa",
      "include_colab_link": true,
      "provenance": []
    },
    "kernelspec": {
      "display_name": "Python 3",
      "name": "python3"
    },
    "language_info": {
      "codemirror_mode": {
        "name": "ipython",
        "version": 3
      },
      "file_extension": ".py",
      "mimetype": "text/x-python",
      "name": "python",
      "nbconvert_exporter": "python",
      "pygments_lexer": "ipython3",
      "version": "3.10.11"
    }
  },
  "nbformat": 4,
  "nbformat_minor": 0
}
